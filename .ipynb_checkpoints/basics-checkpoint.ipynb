{
 "cells": [
  {
   "cell_type": "markdown",
   "metadata": {},
   "source": [
    "### めも\n",
    "\n",
    "学外からも使えるよ  \n",
    "http://54.64.186.122/　\n",
    "\n",
    "これはpython2で書かれてるよ  \n",
    "月曜の朝には鯖をいじるので保存したいデータは日曜の夜までに保存しておいてね"
   ]
  },
  {
   "cell_type": "code",
   "execution_count": 8,
   "metadata": {
    "collapsed": false
   },
   "outputs": [
    {
     "name": "stdout",
     "output_type": "stream",
     "text": [
      "Object `(x)` not found.\n"
     ]
    }
   ],
   "source": [
    "%pdoc(x)"
   ]
  },
  {
   "cell_type": "markdown",
   "metadata": {},
   "source": [
    "開発基礎講座\n",
    "======\n",
    "\n",
    "この講座はDL講座の補助となる講座です。\n",
    "\n",
    "#### 対象\n",
    "\n",
    "pythonは使った事はあるが、コーディングに自信がない人\n",
    "\n",
    "#### 今回の講座で取得して欲しい事\n",
    "\n",
    "DL講座を理解を助ける為のpythonに関する基礎知識\n",
    "\n",
    "特にnumpyの使い方\n",
    "\n",
    "\n",
    "# 予定\n",
    "* pythonにおける開発方針(10分)\n",
    "* ipython notebookを使おう(10分)\n",
    "* numpyの配列処理(20分)\n",
    "* 乱数を使った処理(5分)\n",
    "* scikitlearn, scipy(15分)\n",
    "* 質問、自習\n",
    "\n",
    "# 内容\n",
    "#### Pythonを使った開発\n",
    "* なぜpythonか\n",
    "* 注意すること\n",
    "\n",
    "#### numpyの配列処理\n",
    "* transpose, flatten, reshape\n",
    "* dot product\n",
    "* getting components, slice\n",
    "* scalar multiplication\n",
    "* ones, zeros\n",
    "* axis\n",
    "* numpy arrayのもつ関数(sum,max,min)\n",
    "* broadcast, newaxis\n",
    "\n",
    "#### 乱数\n",
    "* 乱数生成 (ガウス分布、一様分布)\n",
    "* 乱数を使った並び替え\n",
    "* ランダムシード\n",
    "\n",
    "#### scikitlearnの関数\n",
    "* cross_validation\n",
    "\n",
    "#### scipyの関数\n",
    "* 画像処理"
   ]
  },
  {
   "cell_type": "markdown",
   "metadata": {
    "collapsed": true
   },
   "source": [
    "なぜ Pythonか\n",
    "=======\n",
    "* メジャーな言語\n",
    "\n",
    "* ライブラリがそろっている。\n",
    "\n",
    "* 便利な組み込み型 list, dictionary\n",
    "\n",
    "* テキスト処理も簡単\n",
    "\n",
    "* やりたい事が簡潔にかける\n",
    "\n",
    "注意する事\n",
    "=====\n",
    "* 関数に入れた時のふるまい、コピー渡し、参照渡し\n",
    "\n",
    "* pythonの '=' は エイリアス（別名）である。\n",
    "\n",
    "* 実行ディレクトリにある ~.py　というファイルは全て import の対象となる。\n",
    "<br>   numpy.py というファイルを現在作業中のディレクトリに置いてはいけない。\n",
    "\n",
    "* import に関して\n",
    "```\n",
    "from numpy import *\n",
    "```\n",
    "としはいけません。\n",
    "関数がどのモジュールで定義されたものか分かりづらくなる。\n",
    "\n",
    "\n",
    "* numpyでは成分を一つずつ取り出して、行うような操作\n",
    "\n",
    "    処理が遅くなる\n",
    "\n",
    "#### コーディングスタンダード\n",
    "    * PEP8\n",
    "        https://www.python.org/dev/peps/pep-0008/\n",
    "    * Google\n",
    "        https://google.github.io/styleguide/pyguide.html\n",
    "\n",
    "    PEP8に従っているかを自動でチェックする事も可能\n",
    "\n",
    "#### 英語は開発者にも重要です\n",
    "\n",
    "* ドキュメントを読む\n",
    "\n",
    "* 正しい検索用語\n",
    "\n",
    "* プログラミング\n",
    "\n",
    "    普段から英語で書かれたマニュアルに目を通しておく事で語彙、表現を増やせる。\n",
    "\n",
    "\n",
    "資料色々\n",
    "====\n",
    "\n",
    "正規\n",
    "\n",
    "http://www.numpy.org/\n",
    "\n",
    "http://docs.scipy.org/doc/\n",
    "\n",
    "http://www.scipy.org/docs.html\n",
    "\n",
    "Python Numpy Tutorial\n",
    "\n",
    "http://cs231n.github.io/python-numpy-tutorial/\n",
    "\n",
    "私訳「暫定的 NumPy チュートリアル」\n",
    "\n",
    "http://naoyat.hatenablog.jp/entry/2011/12/29/021414\n",
    "\n",
    "機械学習の Python との出会い\n",
    "\n",
    "http://www.kamishima.net/mlmpyja/\n",
    "\n",
    "Python Scientific Lecture Notes\n",
    "\n",
    "http://turbare.net/transl/scipy-lecture-notes/index.html"
   ]
  },
  {
   "cell_type": "markdown",
   "metadata": {},
   "source": [
    "ipython notebook を使おう\n",
    "=============\n",
    "## コードを書く、結果の確認が簡単にできる\n",
    "\n",
    "* 実行\n",
    "\n",
    "    再生ボタン\n",
    "    \n",
    "    (Ctrl + Enter)\n",
    "    \n",
    "    (Alt + Enter)新しいセルが作成される\n",
    "\n",
    "\n",
    "* Auto Complete\n",
    "    \n",
    "    Tabキー\n",
    "\n",
    "\n",
    "* Markdown と　Code\n",
    "    \n",
    "    Cell -> Cell Type -> (Code,.Markdown, RawNBConvert)\n",
    "\n",
    "\n",
    "* 何コレ？と思ったらとりあえず '？' をつけてみよう\n",
    "```\n",
    "import numpy\n",
    "numpy.linalg.det?\n",
    "```\n",
    "    %pdoc, dir　も使ってみよう\n",
    "    \n",
    "\n",
    "* linuxのコマンドは ! で\n",
    "```\n",
    "! ls\n",
    "```\n",
    "\n",
    "* 全部やり直し\n",
    "\n",
    "    Kernel -> Restart\n",
    "\n",
    "\n",
    "#### さらにいろいろやりたい人に\n",
    "* magic関数\n",
    "\n",
    "    %で始まる　ipython notebook 独自のコマンド\n",
    "```\n",
    "%magic\n",
    "```\n",
    "    でコマンドリストが見れる\n",
    "\n",
    "#### 参照\n",
    "\n",
    "http://ipython.org/notebook.html\n",
    "\n",
    "http://opentechschool.github.io/python-data-intro/core/notebook.html\n",
    "\n",
    "http://ameblo.jp/hitochan007/entry-11999446477.html\n",
    "\n",
    "http://qiita.com/icoxfog417/items/175f69d06f4e590face9"
   ]
  },
  {
   "cell_type": "markdown",
   "metadata": {},
   "source": [
    "### python 初学者がハマるいくつかの事"
   ]
  },
  {
   "cell_type": "code",
   "execution_count": 1,
   "metadata": {
    "collapsed": false
   },
   "outputs": [
    {
     "data": {
      "text/plain": [
       "([1, 3, 3], [1, 3, 3])"
      ]
     },
     "execution_count": 1,
     "metadata": {},
     "output_type": "execute_result"
    }
   ],
   "source": [
    "a = [1,2,3]\n",
    "b = a #エイリアス\n",
    "b[1] = 3 #a[1] = 3 と同じ\n",
    "a, b"
   ]
  },
  {
   "cell_type": "code",
   "execution_count": 2,
   "metadata": {
    "collapsed": false
   },
   "outputs": [
    {
     "data": {
      "text/plain": [
       "([1, 2, 3], [1, 3, 3])"
      ]
     },
     "execution_count": 2,
     "metadata": {},
     "output_type": "execute_result"
    }
   ],
   "source": [
    "a = [1,2,3]\n",
    "b=a[:] #コピー b=[1,2,3]と同じ\n",
    "b[1] = 3\n",
    "a, b"
   ]
  },
  {
   "cell_type": "code",
   "execution_count": 3,
   "metadata": {
    "collapsed": false
   },
   "outputs": [
    {
     "data": {
      "text/plain": [
       "([5, 2, 3], [3, 4, 5])"
      ]
     },
     "execution_count": 3,
     "metadata": {},
     "output_type": "execute_result"
    }
   ],
   "source": [
    "a = [1,2,3]\n",
    "b = [3,4,5]\n",
    "a[0] = b[0] #代入\n",
    "a[0] = 5 #代入\n",
    "a, b"
   ]
  },
  {
   "cell_type": "code",
   "execution_count": 4,
   "metadata": {
    "collapsed": false
   },
   "outputs": [
    {
     "name": "stdout",
     "output_type": "stream",
     "text": [
      "3\n",
      "abcd\n",
      "0\n"
     ]
    }
   ],
   "source": [
    "# コピー渡し\n",
    "def myfunction1(a, b ,c):\n",
    "    a = b + c\n",
    "    return a\n",
    "\n",
    "x = 0\n",
    "print myfunction1( x, 1, 2)\n",
    "print myfunction1( x, 'ab', 'cd')\n",
    "print x"
   ]
  },
  {
   "cell_type": "code",
   "execution_count": null,
   "metadata": {
    "collapsed": false
   },
   "outputs": [],
   "source": [
    "# 参照渡し オブジェクトを渡したとき\n",
    "def myfunction2(dic):\n",
    "    dic['A'] = 3 #dicが変更される\n",
    "    return\n",
    "\n",
    "d = {}\n",
    "myfunction2(d)\n",
    "print d"
   ]
  },
  {
   "cell_type": "code",
   "execution_count": null,
   "metadata": {
    "collapsed": false
   },
   "outputs": [],
   "source": [
    "#### Don't give name 'numpy.py'　　直下にnumpyを作るとimportがこっちを見に行くのでエラーになる\n",
    "! touch numpy.py\n",
    "#! rm numpy.py numpy.pyc\n",
    "#! ls"
   ]
  },
  {
   "cell_type": "code",
   "execution_count": 8,
   "metadata": {
    "collapsed": false
   },
   "outputs": [
    {
     "name": "stdout",
     "output_type": "stream",
     "text": [
      "[1 2 3]\n"
     ]
    }
   ],
   "source": [
    "import numpy as np\n",
    "\n",
    "x = np.asarray([1,2,3])\n",
    "print x"
   ]
  },
  {
   "cell_type": "markdown",
   "metadata": {},
   "source": [
    "#### 本講座では重要ではありませんが、さらに知りたい人の為に。\n",
    "予想と違う振る舞いの例　\n",
    "\n",
    "http://www.toptal.com/python/top-10-mistakes-that-python-programmers-make\n",
    "\n",
    "https://www.quora.com/What-are-common-programming-errors-or-gotchas-in-Python\n",
    "\n",
    "http://inventwithpython.com/blog/2012/07/09/16-common-python-runtime-errors/\n",
    "\n",
    "https://www.udacity.com/wiki/common-python-pitfalls\n",
    "\n",
    "#### ベストプラクティスに従っていれば　問題ないはずです\n",
    "#### わけのわからないエラーが出たら一行一行疑うことも必要"
   ]
  },
  {
   "cell_type": "markdown",
   "metadata": {},
   "source": [
    "### 便利な機能"
   ]
  },
  {
   "cell_type": "code",
   "execution_count": 6,
   "metadata": {
    "collapsed": false
   },
   "outputs": [],
   "source": [
    "import numpy\n",
    "numpy.linalg.det?"
   ]
  },
  {
   "cell_type": "code",
   "execution_count": 9,
   "metadata": {
    "collapsed": false
   },
   "outputs": [],
   "source": [
    "x?"
   ]
  },
  {
   "cell_type": "markdown",
   "metadata": {},
   "source": [
    "# Numpyの使い方いろいろ\n",
    "\n",
    "#### どうなるかを予想してから実行ボタンを押して下さい。"
   ]
  },
  {
   "cell_type": "code",
   "execution_count": 10,
   "metadata": {
    "collapsed": false
   },
   "outputs": [
    {
     "name": "stdout",
     "output_type": "stream",
     "text": [
      "[[1 2 3]\n",
      " [4 5 6]]\n",
      "\n",
      "[7 8 9]\n",
      "\n",
      "[[1 4]\n",
      " [2 5]\n",
      " [3 6]]\n",
      "\n",
      "[1 2 3 4 5 6]\n",
      "\n",
      "[[1 2]\n",
      " [3 4]\n",
      " [5 6]]\n"
     ]
    }
   ],
   "source": [
    "import numpy as np\n",
    "W = np.asarray([[1,2,3],[4,5,6]])\n",
    "#W = np.asarray([[1,2,3,4],[4,5,6,7],[8,9,10,11]])\n",
    "\n",
    "x = np.asarray([7,8,9])\n",
    "\n",
    "print W\n",
    "print\n",
    "print x\n",
    "print\n",
    "# transpose\n",
    "print W.T\n",
    "print\n",
    "#flatten \n",
    "print W.flatten()\n",
    "print\n",
    "#reshape\n",
    "print W.reshape(3,2)"
   ]
  },
  {
   "cell_type": "code",
   "execution_count": 11,
   "metadata": {
    "collapsed": false
   },
   "outputs": [
    {
     "name": "stdout",
     "output_type": "stream",
     "text": [
      "[ 50 122]\n",
      "[ 50 122]\n"
     ]
    }
   ],
   "source": [
    "# dot product\n",
    "# 1*7 + 2*8 + 3*9 = 50\n",
    "# 4*7 + 5*8 + 6*9 = 122\n",
    "print np.dot(W,x)\n",
    "print np.dot(x,W.T)"
   ]
  },
  {
   "cell_type": "code",
   "execution_count": 12,
   "metadata": {
    "collapsed": false
   },
   "outputs": [
    {
     "name": "stdout",
     "output_type": "stream",
     "text": [
      "[[ 2  4  6]\n",
      " [ 8 10 12]]\n",
      "\n",
      "[[-1 -2 -3]\n",
      " [-4 -5 -6]]\n"
     ]
    }
   ],
   "source": [
    "# scalar multiplication\n",
    "print W*2\n",
    "print\n",
    "print -W"
   ]
  },
  {
   "cell_type": "code",
   "execution_count": 13,
   "metadata": {
    "collapsed": false
   },
   "outputs": [
    {
     "name": "stdout",
     "output_type": "stream",
     "text": [
      "[7 8 9]\n",
      "\n",
      "7\n",
      "8\n",
      "9\n",
      "\n",
      "9\n",
      "\n",
      "[9 8 7]\n",
      "\n",
      "[7 9]\n"
     ]
    }
   ],
   "source": [
    "# components, slice\n",
    "print x\n",
    "print\n",
    "print x[0]\n",
    "print x[1]\n",
    "print x[2]\n",
    "print\n",
    "print x[-1]\n",
    "print\n",
    "print x[::-1]\n",
    "print\n",
    "print x[::2]"
   ]
  },
  {
   "cell_type": "code",
   "execution_count": 14,
   "metadata": {
    "collapsed": false
   },
   "outputs": [
    {
     "name": "stdout",
     "output_type": "stream",
     "text": [
      "[[1 2 3]\n",
      " [4 5 6]]\n",
      "\n",
      "[1 2 3]\n",
      "[4 5 6]\n",
      "\n",
      "[1 4]\n",
      "[2 5]\n",
      "[3 6]\n",
      "\n",
      "[[4 5 6]\n",
      " [1 2 3]]\n",
      "\n",
      "[[6 5 4]\n",
      " [3 2 1]]\n"
     ]
    }
   ],
   "source": [
    "print W\n",
    "print\n",
    "print W[0]\n",
    "print W[1]\n",
    "print\n",
    "print W[:,0]\n",
    "print W[:,1]\n",
    "print W[:,2]\n",
    "print\n",
    "print W[::-1]\n",
    "print\n",
    "print W[::-1,::-1]"
   ]
  },
  {
   "cell_type": "code",
   "execution_count": 15,
   "metadata": {
    "collapsed": false
   },
   "outputs": [
    {
     "name": "stdout",
     "output_type": "stream",
     "text": [
      "[[1 2 3]\n",
      " [4 5 6]]\n",
      "\n",
      "21\n",
      "\n",
      "[5 7 9]\n",
      "\n",
      "[ 6 15]\n"
     ]
    }
   ],
   "source": [
    "# axis, sum\n",
    "print W\n",
    "print\n",
    "print W.sum()\n",
    "print\n",
    "print W.sum(axis=0)\n",
    "print\n",
    "print W.sum(axis=1)"
   ]
  },
  {
   "cell_type": "code",
   "execution_count": 16,
   "metadata": {
    "collapsed": false
   },
   "outputs": [
    {
     "name": "stdout",
     "output_type": "stream",
     "text": [
      "[ 0.  0.  0.  0.  0.  0.  0.  0.  0.  0.]\n",
      "\n",
      "[[ 0.  0.  0.  0.  0.]\n",
      " [ 0.  0.  0.  0.  0.]]\n",
      "\n",
      "[ 1.  1.  1.  1.  1.  1.  1.  1.  1.  1.]\n",
      "\n",
      "[ 0.5  0.5  0.5  0.5  0.5  0.5  0.5  0.5  0.5  0.5]\n",
      "\n",
      "[ 7.  8.  9.  0.  0.  0.  0.  0.  0.  0.]\n"
     ]
    }
   ],
   "source": [
    "#　ones, zeros, reshape\n",
    "print np.zeros(10)\n",
    "print\n",
    "print np.zeros(10).reshape(2,5)\n",
    "print\n",
    "print np.ones(10)\n",
    "print\n",
    "print (np.ones(10) * 0.5)\n",
    "print\n",
    "z = np.zeros(10)\n",
    "z[:len(x)] += x\n",
    "print z"
   ]
  },
  {
   "cell_type": "markdown",
   "metadata": {},
   "source": [
    "#### broad castについての説明\n",
    "\n",
    "http://sucrose.hatenablog.com/entry/2014/12/15/000352"
   ]
  },
  {
   "cell_type": "code",
   "execution_count": 17,
   "metadata": {
    "collapsed": false
   },
   "outputs": [
    {
     "name": "stdout",
     "output_type": "stream",
     "text": [
      "[[1 2 3]\n",
      " [4 5 6]]\n",
      "[7 8 9]\n",
      "\n",
      "[6 7 8]\n",
      "\n",
      "[[0 1 2]\n",
      " [3 4 5]]\n",
      "\n",
      "[[ 7 16 27]\n",
      " [28 40 54]]\n",
      "\n",
      "[[ 8 10 12]\n",
      " [11 13 15]]\n",
      "\n",
      "[[ 8 11]\n",
      " [10 13]\n",
      " [12 15]]\n"
     ]
    }
   ],
   "source": [
    "# broad cast\n",
    "print W\n",
    "print x\n",
    "print\n",
    "print x - 1\n",
    "print\n",
    "print W - 1\n",
    "print\n",
    "print W * x\n",
    "print\n",
    "print W + x\n",
    "\n",
    "print \n",
    "# newaxis\n",
    "print W.T + x[np.newaxis,:].T"
   ]
  },
  {
   "cell_type": "code",
   "execution_count": 18,
   "metadata": {
    "collapsed": false
   },
   "outputs": [
    {
     "name": "stdout",
     "output_type": "stream",
     "text": [
      "(2, 3)\n",
      "(3, 2)\n",
      "\n",
      "(3,)\n",
      "(3,)\n",
      "\n",
      "(1, 3)\n",
      "\n",
      "[[7]\n",
      " [8]\n",
      " [9]]\n",
      "\n",
      "[[49 56 63]\n",
      " [56 64 72]\n",
      " [63 72 81]]\n",
      "\n",
      "(1, 3)\n",
      "(3, 1)\n"
     ]
    }
   ],
   "source": [
    "print W.shape\n",
    "print W.T.shape\n",
    "print\n",
    "print x.shape\n",
    "print x.T.shape # x と x.Tの shapeは同じ\n",
    "print \n",
    "print x[np.newaxis,:].shape #(3,2)にbroadcastするには np.newaxisが必要\n",
    "print\n",
    "print x[:,np.newaxis]\n",
    "print\n",
    "print x[:,np.newaxis] * x\n",
    "print \n",
    "print x[np.newaxis].shape #x[np.newaxis,:]と同じ\n",
    "print x[:,np.newaxis].shape\n",
    "#x[:,np.newaxis]はどんな表式かな？"
   ]
  },
  {
   "cell_type": "code",
   "execution_count": 19,
   "metadata": {
    "collapsed": false
   },
   "outputs": [
    {
     "data": {
      "text/plain": [
       "13.928388277184119"
      ]
     },
     "execution_count": 19,
     "metadata": {},
     "output_type": "execute_result"
    }
   ],
   "source": [
    "# squared norm\n",
    "#sqrt(7*7 + 8*8 + 9*9) = 13.928....\n",
    "x = np.asarray([7,8,9])\n",
    "np.linalg.norm(x,ord=2)"
   ]
  },
  {
   "cell_type": "markdown",
   "metadata": {},
   "source": [
    "#### 練習　（答えは後ろの方にある）\n",
    "* 1.\n",
    "```\n",
    "x = np.asarray([7,8,9])\n",
    "W = np.asarray([[1,2,3],[4,5,6]])\n",
    "```\n",
    "と同様のx,Wを得るように np.arangeを使ったやり方を書いてください。\n",
    "\n",
    "\n",
    "* 2.\n",
    "\n",
    "    以下の様な表式を得るようにWを変形してください。\n",
    "```\n",
    "[[ 1.  0. -1.]\n",
    " [ 4.  3.  2.]]\n",
    "```\n",
    "    ヒント　縦の差は3,横の差は-1"
   ]
  },
  {
   "cell_type": "code",
   "execution_count": 34,
   "metadata": {
    "collapsed": false
   },
   "outputs": [],
   "source": [
    "# write down your code\n",
    "\n",
    "#W = np.asarray([[1,2,3],[4,5,6]])\n",
    "#x = np.arange(7,XXX)\n",
    "#W = np.arange(1,7).reshape(XXX,YYY)\n",
    "#print x,W\n",
    "\n",
    "#W[?????] - 2"
   ]
  },
  {
   "cell_type": "markdown",
   "metadata": {},
   "source": [
    "#### 応用\n",
    "\n",
    "以下の様な表式を得るようにnumpyでプログラムを書いてください。\n",
    "\n",
    "* ex. 1\n",
    "```\n",
    "[0, 0, 1, 1, 2, 2, 3, 3, 4, 4]\n",
    "```\n",
    "\n",
    "* ex. 2\n",
    "```\n",
    "[0, 1, 0, 3, 0, 5, 0, 7, 0, 9]\n",
    "```\n",
    "\n",
    "* ex. 3\n",
    "```\n",
    "[1, 2, 4, 8, 16]\n",
    "```\n",
    "\n",
    "* ex. 4\n",
    "```\n",
    "[-1. -1. -1. -1. -1.  1.  1.  1.  1.  1.]\n",
    "```"
   ]
  },
  {
   "cell_type": "code",
   "execution_count": null,
   "metadata": {
    "collapsed": true
   },
   "outputs": [],
   "source": [
    "# write down your code\n"
   ]
  },
  {
   "cell_type": "markdown",
   "metadata": {},
   "source": [
    "### 乱数\n",
    "ガウス型と一様乱数"
   ]
  },
  {
   "cell_type": "code",
   "execution_count": 21,
   "metadata": {
    "collapsed": false
   },
   "outputs": [
    {
     "data": {
      "image/png": "[encoded data removed]",
      "text/plain": [
       "<matplotlib.figure.Figure at 0x7f282e82de90>"
      ]
     },
     "metadata": {},
     "output_type": "display_data"
    }
   ],
   "source": [
    "import numpy as np\n",
    "import matplotlib.pyplot as plt\n",
    "#ipython notebookの時に必要\n",
    "%matplotlib inline \n",
    "\n",
    "r = np.random.normal(0,10,1000) ### この数字を変えてみよう。\n",
    "plt.plot(r,'x')\n",
    "plt.show()\n",
    "# np.random.normal?"
   ]
  },
  {
   "cell_type": "code",
   "execution_count": null,
   "metadata": {
    "collapsed": false
   },
   "outputs": [],
   "source": [
    "r = np.random.uniform(-10,10,1000) ### この数字を変えてみよう。\n",
    "plt.plot(r,'x')\n",
    "plt.show()\n",
    "#np.random.uniform?"
   ]
  },
  {
   "cell_type": "code",
   "execution_count": 30,
   "metadata": {
    "collapsed": false
   },
   "outputs": [
    {
     "name": "stdout",
     "output_type": "stream",
     "text": [
      "[0, 7, 3, 9, 6, 4, 1, 8, 5, 2]\n",
      "[4, 0, 9, 5, 7, 3, 8, 6, 1, 2]\n",
      "[4, 7, 8, 5, 0, 3, 6, 9, 1, 2]\n"
     ]
    }
   ],
   "source": [
    "import sklearn.utils\n",
    "#random.seedを設定するといつも同じ乱数が生成される\n",
    "np.random.seed(12345) ###ここをコメントアウトすると？, (123) => ()にすると？\n",
    "print sklearn.utils.shuffle(range(10))\n",
    "print sklearn.utils.shuffle(range(10))\n",
    "print sklearn.utils.shuffle(range(10))"
   ]
  },
  {
   "cell_type": "code",
   "execution_count": 32,
   "metadata": {
    "collapsed": false
   },
   "outputs": [
    {
     "name": "stdout",
     "output_type": "stream",
     "text": [
      "[0, 7, 3, 9, 6, 4, 1, 8, 5, 2]\n",
      "[4, 0, 9, 5, 7, 3, 8, 6, 1, 2]\n",
      "[4, 7, 8, 5, 0, 3, 6, 9, 1, 2]\n"
     ]
    }
   ],
   "source": [
    "### 応用編\n",
    "rng = np.random.RandomState(12345)\n",
    "print sklearn.utils.shuffle(range(10), random_state=rng) #関数一つ一つにseedを設定\n",
    "print sklearn.utils.shuffle(range(10), random_state=rng)\n",
    "print sklearn.utils.shuffle(range(10), random_state=rng)"
   ]
  },
  {
   "cell_type": "code",
   "execution_count": 36,
   "metadata": {
    "collapsed": false
   },
   "outputs": [
    {
     "name": "stdout",
     "output_type": "stream",
     "text": [
      "ABCDE\n"
     ]
    },
    {
     "data": {
      "text/plain": [
       "[[4, 0, 3], [2, 1], ['E', 'A', 'D'], ['C', 'B']]"
      ]
     },
     "execution_count": 36,
     "metadata": {},
     "output_type": "execute_result"
    }
   ],
   "source": [
    "#データを学習用とテスト様に分けるときに使う\n",
    "import string\n",
    "lettersAtoE = string.uppercase[:5]\n",
    "print lettersAtoE\n",
    "\n",
    "from sklearn import cross_validation\n",
    "cross_validation.train_test_split(range(5), lettersAtoE)\n",
    "#ABCDEを01234と読みかえると?"
   ]
  },
  {
   "cell_type": "code",
   "execution_count": 38,
   "metadata": {
    "collapsed": false
   },
   "outputs": [
    {
     "data": {
      "image/png": "[encoded data removed]",
      "text/plain": [
       "<matplotlib.figure.Figure at 0x7f280c877d90>"
      ]
     },
     "metadata": {},
     "output_type": "display_data"
    }
   ],
   "source": [
    "#MNIST 手書き数字データ\n",
    "\n",
    "from sklearn.datasets import fetch_mldata\n",
    "# mnist = fetch_mldata('MNIST original')\n",
    "mnist = fetch_mldata('MNIST original', data_home='.')\n",
    "\n",
    "import matplotlib.pyplot as plt\n",
    "%matplotlib inline \n",
    "\n",
    "#mnist.dataにはたくさんの画像データ（手書き数字）がはいっている。flatになっているのでreshapeしてる\n",
    "plt.imshow(mnist.data[0].reshape(28,28),cmap='gray',interpolation='none')\n",
    "\n",
    "#オブジェクトの中身の確認\n",
    "#mnist?"
   ]
  },
  {
   "cell_type": "code",
   "execution_count": 39,
   "metadata": {
    "collapsed": false
   },
   "outputs": [
    {
     "data": {
      "text/plain": [
       "<matplotlib.image.AxesImage at 0x7f281409fe50>"
      ]
     },
     "execution_count": 39,
     "metadata": {},
     "output_type": "execute_result"
    },
    {
     "data": {
      "image/png": "[encoded data removed]",
      "text/plain": [
       "<matplotlib.figure.Figure at 0x7f2813f20dd0>"
      ]
     },
     "metadata": {},
     "output_type": "display_data"
    }
   ],
   "source": [
    "import scipy.ndimage\n",
    "\n",
    "ZOOM=10  ### 変えてみよう\n",
    "SIGMA=10   ### 変えてみよう\n",
    "ANGLE=45  ### 変えてみよう\n",
    "\n",
    "### 縮小拡大\n",
    "img = scipy.ndimage.zoom(mnist.data[-1].reshape(28,28),(ZOOM,ZOOM),order=1)\n",
    "### ぼかし\n",
    "img = scipy.ndimage.gaussian_filter(img,SIGMA)\n",
    "### 回転\n",
    "img = scipy.ndimage.rotate(img,ANGLE)\n",
    "\n",
    "plt.imshow(img, cmap='gray',interpolation='none')"
   ]
  },
  {
   "cell_type": "code",
   "execution_count": 42,
   "metadata": {
    "collapsed": false
   },
   "outputs": [
    {
     "data": {
      "text/plain": [
       "<matplotlib.image.AxesImage at 0x7f27fdb69850>"
      ]
     },
     "execution_count": 42,
     "metadata": {},
     "output_type": "execute_result"
    },
    {
     "data": {
      "image/png": "[encoded data removed]",
      "text/plain": [
       "<matplotlib.figure.Figure at 0x7f28016c4690>"
      ]
     },
     "metadata": {},
     "output_type": "display_data"
    }
   ],
   "source": [
    "### 4枚をプロット　pyplot.figure\n",
    "imgs = map(lambda x: x.reshape(28,28), sklearn.utils.shuffle(mnist.data))\n",
    "\n",
    "fig = plt.figure()\n",
    "ax = fig.add_subplot(1,4,1)\n",
    "ax.imshow(imgs[0], cmap='gray',interpolation='none')\n",
    "ax = fig.add_subplot(1,4,2)\n",
    "ax.imshow(imgs[1], cmap='gray',interpolation='none')\n",
    "ax = fig.add_subplot(1,4,3)\n",
    "ax.imshow(imgs[2], cmap='gray',interpolation='none')\n",
    "ax = fig.add_subplot(1,4,4)\n",
    "ax.imshow(imgs[3], cmap='gray',interpolation='none')\n",
    "\n",
    "#edge抽出など\n",
    "#http://scikit-image.org/docs/dev/auto_examples/plot_canny.html\n",
    "#http://www.tp.umu.se/~nylen/fnm/pylect/advanced/image_processing/index.html"
   ]
  },
  {
   "cell_type": "markdown",
   "metadata": {},
   "source": [
    "#### 問題\n",
    "\n",
    "mnist.dataには画像は何枚あるでしょうか。\n",
    "\n",
    "画像データはどのようなグレイスケールで表されているでしょうか。\n",
    "\n",
    "４枚の数字をタテ２xヨコ２で表示してみましょう"
   ]
  },
  {
   "cell_type": "code",
   "execution_count": null,
   "metadata": {
    "collapsed": true
   },
   "outputs": [],
   "source": [
    "#write down your code"
   ]
  },
  {
   "cell_type": "code",
   "execution_count": null,
   "metadata": {
    "collapsed": false
   },
   "outputs": [],
   "source": [
    "# 練習の解\n",
    "print W[:,::-1] - 2"
   ]
  },
  {
   "cell_type": "code",
   "execution_count": null,
   "metadata": {
    "collapsed": false
   },
   "outputs": [],
   "source": [
    "#応用　ex.の解\n",
    "print np.arange(10)/2\n",
    "print (np.arange(10)*0.5).astype(int)\n",
    "print\n",
    "\n",
    "x = np.arange(10) \n",
    "x[x%2==0]=0\n",
    "print x\n",
    "\n",
    "\n",
    "x = np.arange(10)\n",
    "print x * (x%2==1)\n",
    "print\n",
    "\n",
    "print 2**(np.arange(5))\n",
    "print\n",
    "\n",
    "print np.sign(np.arange(10)-4.5)\n",
    "print np.concatenate([-np.ones(5), np.ones(5)])"
   ]
  },
  {
   "cell_type": "code",
   "execution_count": null,
   "metadata": {
    "collapsed": false
   },
   "outputs": [],
   "source": [
    "#問題の解\n",
    "print len(mnist.data)\n",
    "print mnist.data.max()\n",
    "print mnist.data.min()\n",
    "print (mnist.data % 1.0).any() #0.0以外があればこれは True\n",
    "#(mnist.data % 1.0).sum()\n",
    "#データ数　70000\n",
    "#0~255までの整数\n",
    "\n",
    "fig = plt.figure()\n",
    "ax = fig.add_subplot(2,2,1)\n",
    "ax.imshow(imgs[0], cmap='gray',interpolation='none')\n",
    "ax = fig.add_subplot(2,2,2)\n",
    "ax.imshow(imgs[1], cmap='gray',interpolation='none')\n",
    "ax = fig.add_subplot(2,2,3)\n",
    "ax.imshow(imgs[2], cmap='gray',interpolation='none')\n",
    "ax = fig.add_subplot(2,2,4)\n",
    "ax.imshow(imgs[3], cmap='gray',interpolation='none')"
   ]
  },
  {
   "cell_type": "code",
   "execution_count": null,
   "metadata": {
    "collapsed": true
   },
   "outputs": [],
   "source": []
  }
 ],
 "metadata": {
  "kernelspec": {
   "display_name": "Python 3",
   "language": "python",
   "name": "python3"
  },
  "language_info": {
   "codemirror_mode": {
    "name": "ipython",
    "version": 3
   },
   "file_extension": ".py",
   "mimetype": "text/x-python",
   "name": "python",
   "nbconvert_exporter": "python",
   "pygments_lexer": "ipython3",
   "version": "3.4.3"
  }
 },
 "nbformat": 4,
 "nbformat_minor": 0
}
